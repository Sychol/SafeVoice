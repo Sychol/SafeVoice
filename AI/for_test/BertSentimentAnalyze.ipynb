{
 "cells": [
  {
   "cell_type": "code",
   "execution_count": 16,
   "id": "98e54588",
   "metadata": {},
   "outputs": [
    {
     "name": "stdout",
     "output_type": "stream",
     "text": [
      "\n",
      "🗣️ 전체 디코딩 결과:  너는 맞으면 아프고 나는 맞으면 안 아파? 아프겠지 아프니까 나는 어렸으니까 너무 그때 너 어렸으니까 내가 철 없다고 했잖아 그러니까 내가 사과를 하는 거잖아 그니까 그 사과가 왜 말로 틈 치고 마냐고 그때 나도 어렸으니까 내가 나이 먹고 내가 그렇게 했니? 나도 그때는 철이 없었으니까 그때 한 거잖아\n",
      "\n",
      "📌 문장 리스트:\n",
      "1. 너는 맞으면 아프고 나는 맞으면 안 아파? 아프겠지 아프니까 나는 어렸으니까 너무 그때 너 어렸으니까 내가 철 없다고 했잖아 그러니까 내가 사과를 하는 거잖아 그니까 그 사과가 왜 말로 틈 치고 마냐고 그때 나도 어렸으니까 내가 나이 먹고 내가 그렇게 했니? 나도 그때는 철이 없었으니까 그때 한 거잖아\n"
     ]
    }
   ],
   "source": [
    "import torch\n",
    "from transformers import AutoModelForSpeechSeq2Seq, AutoProcessor\n",
    "import librosa\n",
    "\n",
    "# 🎯 장치 설정\n",
    "device = \"cuda:0\" if torch.cuda.is_available() else \"cpu\"\n",
    "torch_dtype = torch.float16 if torch.cuda.is_available() else torch.float32\n",
    "\n",
    "# 🎧 오디오 로딩 (librosa 사용)\n",
    "path_to_audio = \"./ML_part/recoding/학교폭력_SAMPLE.mp3\"\n",
    "waveform_np, sample_rate = librosa.load(path_to_audio, sr=16000)\n",
    "waveform = torch.tensor(waveform_np).unsqueeze(0)\n",
    "\n",
    "# 🤖 모델/프로세서 로딩\n",
    "model_id = \"./ML_part/model/whisper-small\"\n",
    "model = AutoModelForSpeechSeq2Seq.from_pretrained(\n",
    "    model_id, torch_dtype=torch_dtype, low_cpu_mem_usage=True, use_safetensors=True\n",
    ")\n",
    "model.to(device)\n",
    "processor = AutoProcessor.from_pretrained(model_id)\n",
    "\n",
    "# 📦 입력 전처리\n",
    "inputs = processor(\n",
    "    waveform.squeeze().numpy(),\n",
    "    sampling_rate=sample_rate,\n",
    "    return_tensors=\"pt\",\n",
    "    language=\"en\"  # 필요 시 'ko' 등 변경 가능\n",
    ").to(device)\n",
    "inputs[\"input_features\"] = inputs[\"input_features\"].to(dtype=torch_dtype)\n",
    "\n",
    "# 🔮 추론\n",
    "with torch.no_grad():\n",
    "    generated_tokens = model.generate(inputs[\"input_features\"])\n",
    "\n",
    "# 🧠 special tokens 포함하여 디코딩\n",
    "decoded_text = processor.batch_decode(generated_tokens, skip_special_tokens=False)[0]\n",
    "print(\"\\n🗣️ 전체 디코딩 결과:\", decoded_text)\n",
    "\n",
    "# 🪄 [SEP] 기준 문장 분리 (또는 <|endoftext|> 등도 가능)\n",
    "sentences = [s.strip() for s in decoded_text.split(\"[SEP]\") if s.strip()]\n",
    "\n",
    "# 📋 출력\n",
    "print(\"\\n📌 문장 리스트:\")\n",
    "for idx, sentence in enumerate(sentences, 1):\n",
    "    print(f\"{idx}. {sentence}\")\n"
   ]
  },
  {
   "cell_type": "code",
   "execution_count": 2,
   "id": "22a13d44",
   "metadata": {},
   "outputs": [],
   "source": [
    "import pandas as pd\n",
    "import torch\n",
    "from transformers import BertTokenizer, BertForSequenceClassification\n",
    "from transformers import TextClassificationPipeline\n",
    "import matplotlib.pyplot as plt\n",
    "import whisper\n",
    "import tqdm\n",
    "%matplotlib inline"
   ]
  },
  {
   "cell_type": "code",
   "execution_count": 3,
   "id": "c05e85d3",
   "metadata": {},
   "outputs": [],
   "source": [
    "model = whisper.load_model(\"small\")"
   ]
  },
  {
   "cell_type": "code",
   "execution_count": null,
   "id": "59279a1a",
   "metadata": {},
   "outputs": [
    {
     "name": "stdout",
     "output_type": "stream",
     "text": [
      "[' 너는 맞으면 아프고 나는 맞으면 안 아파?', ' 아프겠지 아프니까', ' 나는 어렸으니까 너무나', ' 그때도 어렸으니까 내가 철 없다고 했잖아', ' 그러니까 내가 사과를 하는 거잖아', ' 그니까 그 사과가 왜 말로 틈 치고 마냐고', ' 그때도 나도 어렸으니까', ' 내가 나이 먹고 내가 그렇게 했니?', ' 나도 그때로 철이 없었으니까', ' 그때로 한 거잖아', ' 친구 때리면 안 된다는 거는', ' 초등학교 1학년 때부터 배우는 거야', ' 발음새만 어쩌고 그런 거에서', ' 친구 놀리지 말라는 건 유치원에서 배우는 거고', ' 나도 한번 물어보자', ' 너는 나를 그렇게 왜 때렸냐?', ' 나도 그때 철이 없었으니까', ' 나도 모르겠다', ' 철이 없었다 이런 얘기 말고', ' 나도 모르지', ' 내가 왜 그때 내가 왜 그렇게 때렸는지', ' 나도 몰라']\n",
      "                    Message\n",
      "0   너는 맞으면 아프고 나는 맞으면 안 아파?\n",
      "1                 아프겠지 아프니까\n",
      "2              나는 어렸으니까 너무나\n",
      "3    그때도 어렸으니까 내가 철 없다고 했잖아\n",
      "4        그러니까 내가 사과를 하는 거잖아\n"
     ]
    }
   ],
   "source": [
    "result = model.transcribe(\".\\학교폭력_SAMPLE.mp3\")\n",
    "#result = model.transcribe(\"./ML_part/recoding/1_B398G1A1_B402G1A1_T1_1D09T0356C000444_050516.wav\")\n",
    "textlist = []\n",
    "for i in result:\n",
    "    if i == 'segments':\n",
    "        for j in result[i]:\n",
    "            if j['text'] not in textlist:\n",
    "                textlist.append(j['text'])\n",
    "print(textlist)"
   ]
  },
  {
   "cell_type": "markdown",
   "id": "5b0aef1c",
   "metadata": {},
   "source": [
    "## Bert Models"
   ]
  },
  {
   "cell_type": "markdown",
   "id": "27744b23",
   "metadata": {},
   "source": [
    "### school_violence_kcbert_base"
   ]
  },
  {
   "cell_type": "code",
   "execution_count": 5,
   "id": "cd43b60e",
   "metadata": {},
   "outputs": [],
   "source": [
    "from transformers import AutoTokenizer, AutoModel, AutoModelForSequenceClassification"
   ]
  },
  {
   "cell_type": "code",
   "execution_count": 6,
   "id": "f743ab98",
   "metadata": {},
   "outputs": [],
   "source": [
    "model_path = \"C:/Users/smhrd/test/ML/model_output/school_violence_kcbert_base\"\n",
    "# tokenizer와 model 불러오기\n",
    "model = AutoModelForSequenceClassification.from_pretrained(model_path)\n",
    "tokenizer = AutoTokenizer.from_pretrained(model_path)"
   ]
  },
  {
   "cell_type": "markdown",
   "id": "122bc4ae",
   "metadata": {},
   "source": [
    "### school_violence_kcbert_Large"
   ]
  },
  {
   "cell_type": "code",
   "execution_count": 56,
   "id": "9118c292",
   "metadata": {},
   "outputs": [],
   "source": [
    "model_path = \"C:/Users/smhrd/test/ML/model_output/school_violence_kcbert_large\"\n",
    "# tokenizer와 model 불러오기\n",
    "model = AutoModelForSequenceClassification.from_pretrained(model_path)\n",
    "tokenizer = AutoTokenizer.from_pretrained(model_path)"
   ]
  },
  {
   "cell_type": "markdown",
   "id": "c5a469f2",
   "metadata": {},
   "source": [
    "### beomi/KcELECTRA-small-v2022"
   ]
  },
  {
   "cell_type": "code",
   "execution_count": 49,
   "id": "aa80e892",
   "metadata": {},
   "outputs": [
    {
     "name": "stderr",
     "output_type": "stream",
     "text": [
      "c:\\Users\\smhrd\\AppData\\Local\\Programs\\Python\\Python39\\lib\\site-packages\\huggingface_hub\\file_download.py:144: UserWarning: `huggingface_hub` cache-system uses symlinks by default to efficiently store duplicated files but your machine does not support them in C:\\Users\\smhrd\\.cache\\huggingface\\hub\\models--beomi--KcELECTRA-small-v2022. Caching files will still work but in a degraded version that might require more space on your disk. This warning can be disabled by setting the `HF_HUB_DISABLE_SYMLINKS_WARNING` environment variable. For more details, see https://huggingface.co/docs/huggingface_hub/how-to-cache#limitations.\n",
      "To support symlinks on Windows, you either need to activate Developer Mode or to run Python as an administrator. In order to activate developer mode, see this article: https://docs.microsoft.com/en-us/windows/apps/get-started/enable-your-device-for-development\n",
      "  warnings.warn(message)\n",
      "Some weights of ElectraForSequenceClassification were not initialized from the model checkpoint at beomi/KcELECTRA-small-v2022 and are newly initialized: ['classifier.dense.bias', 'classifier.dense.weight', 'classifier.out_proj.bias', 'classifier.out_proj.weight']\n",
      "You should probably TRAIN this model on a down-stream task to be able to use it for predictions and inference.\n"
     ]
    }
   ],
   "source": [
    "tokenizer = AutoTokenizer.from_pretrained(\"beomi/KcELECTRA-small-v2022\")\n",
    "model = AutoModelForSequenceClassification.from_pretrained(\"beomi/KcELECTRA-small-v2022\")"
   ]
  },
  {
   "cell_type": "markdown",
   "id": "72e42a57",
   "metadata": {},
   "source": [
    "### KcELECTRA-base-v2022"
   ]
  },
  {
   "cell_type": "code",
   "execution_count": 16,
   "id": "d049358f",
   "metadata": {},
   "outputs": [
    {
     "name": "stderr",
     "output_type": "stream",
     "text": [
      "Some weights of ElectraForSequenceClassification were not initialized from the model checkpoint at beomi/KcELECTRA-base-v2022 and are newly initialized: ['classifier.dense.bias', 'classifier.dense.weight', 'classifier.out_proj.bias', 'classifier.out_proj.weight']\n",
      "You should probably TRAIN this model on a down-stream task to be able to use it for predictions and inference.\n"
     ]
    }
   ],
   "source": [
    "from transformers import AutoTokenizer, AutoModel, AutoModelForSequenceClassification\n",
    "\n",
    "\n",
    "tokenizer = AutoTokenizer.from_pretrained(\"beomi/KcELECTRA-base-v2022\")\n",
    "model = AutoModelForSequenceClassification.from_pretrained(\"beomi/KcELECTRA-base-v2022\")\n",
    "\n",
    "# 구버전(v2021)을 사용하기 원하실 경우\n",
    "#tokenizer = AutoTokenizer.from_pretrained(\"beomi/KcELECTRA-base\")\n",
    "#model = AutoModel.from_pretrained(\"beomi/KcELECTRA-base\")"
   ]
  },
  {
   "cell_type": "markdown",
   "id": "716b663b",
   "metadata": {},
   "source": [
    "### KcBert-base"
   ]
  },
  {
   "cell_type": "code",
   "execution_count": 7,
   "id": "e773894e",
   "metadata": {},
   "outputs": [
    {
     "name": "stderr",
     "output_type": "stream",
     "text": [
      "Some weights of BertForSequenceClassification were not initialized from the model checkpoint at beomi/kcbert-base and are newly initialized: ['classifier.bias', 'classifier.weight']\n",
      "You should probably TRAIN this model on a down-stream task to be able to use it for predictions and inference.\n"
     ]
    }
   ],
   "source": [
    "# BERT 모델과 토크나이저 불러오기\n",
    "model_name = \"beomi/kcbert-base\"\n",
    "tokenizer = BertTokenizer.from_pretrained(model_name)\n",
    "model = BertForSequenceClassification.from_pretrained(model_name)"
   ]
  },
  {
   "cell_type": "markdown",
   "id": "c9f73bbe",
   "metadata": {},
   "source": [
    "### KcBert-Large"
   ]
  },
  {
   "cell_type": "code",
   "execution_count": 98,
   "id": "d4acecb5",
   "metadata": {},
   "outputs": [
    {
     "name": "stderr",
     "output_type": "stream",
     "text": [
      "Some weights of BertForSequenceClassification were not initialized from the model checkpoint at beomi/kcbert-large and are newly initialized: ['classifier.bias', 'classifier.weight']\n",
      "You should probably TRAIN this model on a down-stream task to be able to use it for predictions and inference.\n"
     ]
    }
   ],
   "source": [
    "# BERT 모델과 토크나이저 불러오기\n",
    "model_name = \"beomi/kcbert-large\"\n",
    "tokenizer = BertTokenizer.from_pretrained(model_name)\n",
    "model = BertForSequenceClassification.from_pretrained(model_name)"
   ]
  },
  {
   "cell_type": "markdown",
   "id": "3fcd70d6",
   "metadata": {},
   "source": [
    "### KoBert"
   ]
  },
  {
   "cell_type": "code",
   "execution_count": null,
   "id": "076bca38",
   "metadata": {},
   "outputs": [],
   "source": [
    "# BERT 모델과 토크나이저 불러오기\n",
    "from transformers import BertModel, XLNetTokenizer\n",
    "from kobert_tokenizer import KoBERTTokenizer\n",
    "tokenizer = KoBERTTokenizer.from_pretrained('skt/kobert-base-v1')\n",
    "model = BertModel.from_pretrained('skt/kobert-base-v1')"
   ]
  },
  {
   "cell_type": "markdown",
   "id": "722917aa",
   "metadata": {},
   "source": [
    "## 감성분석"
   ]
  },
  {
   "cell_type": "code",
   "execution_count": 70,
   "id": "2b0152c0",
   "metadata": {},
   "outputs": [
    {
     "name": "stdout",
     "output_type": "stream",
     "text": [
      "{0: 'negative', 1: 'positive'}\n"
     ]
    }
   ],
   "source": [
    "from transformers import AutoModelForSequenceClassification, AutoTokenizer\n",
    "import os\n",
    "\n",
    "sentiment_model_name = \"C:/Users/smhrd/test/ML/ML_part/model/nsmc_unsmile_kcbert_large\"  # 상대경로\n",
    "sentiment_tokenizer = AutoTokenizer.from_pretrained(\"beomi/KcBert-large\")\n",
    "sentiment_model = AutoModelForSequenceClassification.from_pretrained(sentiment_model_name)\n",
    "print(sentiment_model.config.id2label)"
   ]
  },
  {
   "cell_type": "code",
   "execution_count": 73,
   "id": "1866fff8",
   "metadata": {},
   "outputs": [
    {
     "name": "stderr",
     "output_type": "stream",
     "text": [
      "Device set to use cuda:0\n"
     ]
    }
   ],
   "source": [
    "# 파이프라인 생성\n",
    "sentiment_pipeline = TextClassificationPipeline(model=sentiment_model, tokenizer=tokenizer, return_all_scores=True)"
   ]
  },
  {
   "cell_type": "code",
   "execution_count": 75,
   "id": "c7e682aa",
   "metadata": {},
   "outputs": [
    {
     "name": "stderr",
     "output_type": "stream",
     "text": [
      "Device set to use cuda:0\n"
     ]
    },
    {
     "name": "stdout",
     "output_type": "stream",
     "text": [
      "[{'label': 'negative', 'score': 0.013564319349825382}, {'label': 'positive', 'score': 0.9864357113838196}]\n",
      "[{'label': 'negative', 'score': 0.9928217530250549}, {'label': 'positive', 'score': 0.007178212981671095}]\n",
      "[{'label': 'negative', 'score': 0.993728756904602}, {'label': 'positive', 'score': 0.006271227728575468}]\n",
      "[{'label': 'negative', 'score': 0.017791416496038437}, {'label': 'positive', 'score': 0.9822085499763489}]\n"
     ]
    }
   ],
   "source": [
    "from transformers import pipeline\n",
    "\n",
    "sentiment_pipe = pipeline(\"text-classification\", model=sentiment_model, tokenizer=sentiment_tokenizer, return_all_scores=True)\n",
    "print(sentiment_pipe(\"이 영화 진짜 재밌어요!\")[0])\n",
    "print(sentiment_pipe(\"아 진짜 개별로네\")[0])\n",
    "print(sentiment_pipe(\"뒤지고 싶음?\")[0])\n",
    "print(sentiment_pipe(\"너무너무 사랑해\")[0])\n"
   ]
  },
  {
   "cell_type": "code",
   "execution_count": 81,
   "id": "1d4e356c",
   "metadata": {},
   "outputs": [],
   "source": [
    "# 감정 분석 수행\n",
    "def sentiment_analysis(message):\n",
    "    results = sentiment_pipeline(message)\n",
    "    positive_score = results[0][1]['score']\n",
    "    negative_score = results[0][0]['score']\n",
    "    return positive_score, negative_score\n",
    "\n",
    "sentiment_df = pd.DataFrame(textlist, columns = ['Message']) \n",
    "# 대화 내용에 대해 감정 분석 수행\n",
    "sentiment_df['Positive'], sentiment_df['Negative'] = zip(*sentiment_df['Message'].map(sentiment_analysis))"
   ]
  },
  {
   "cell_type": "code",
   "execution_count": 114,
   "id": "bb509ab9",
   "metadata": {},
   "outputs": [
    {
     "data": {
      "text/html": [
       "<div>\n",
       "<style scoped>\n",
       "    .dataframe tbody tr th:only-of-type {\n",
       "        vertical-align: middle;\n",
       "    }\n",
       "\n",
       "    .dataframe tbody tr th {\n",
       "        vertical-align: top;\n",
       "    }\n",
       "\n",
       "    .dataframe thead th {\n",
       "        text-align: right;\n",
       "    }\n",
       "</style>\n",
       "<table border=\"1\" class=\"dataframe\">\n",
       "  <thead>\n",
       "    <tr style=\"text-align: right;\">\n",
       "      <th></th>\n",
       "      <th>Message</th>\n",
       "      <th>Positive</th>\n",
       "      <th>Negative</th>\n",
       "    </tr>\n",
       "  </thead>\n",
       "  <tbody>\n",
       "    <tr>\n",
       "      <th>8</th>\n",
       "      <td>나도 그때로 철이 없었으니까</td>\n",
       "      <td>0.146546</td>\n",
       "      <td>0.853454</td>\n",
       "    </tr>\n",
       "    <tr>\n",
       "      <th>9</th>\n",
       "      <td>그때로 한 거잖아</td>\n",
       "      <td>0.859396</td>\n",
       "      <td>0.140604</td>\n",
       "    </tr>\n",
       "    <tr>\n",
       "      <th>10</th>\n",
       "      <td>친구 때리면 안 된다는 거는</td>\n",
       "      <td>0.085334</td>\n",
       "      <td>0.914666</td>\n",
       "    </tr>\n",
       "    <tr>\n",
       "      <th>11</th>\n",
       "      <td>초등학교 1학년 때부터 배우는 거야</td>\n",
       "      <td>0.958562</td>\n",
       "      <td>0.041438</td>\n",
       "    </tr>\n",
       "    <tr>\n",
       "      <th>12</th>\n",
       "      <td>발음새만 어쩌고 그런 거에서</td>\n",
       "      <td>0.117815</td>\n",
       "      <td>0.882185</td>\n",
       "    </tr>\n",
       "    <tr>\n",
       "      <th>13</th>\n",
       "      <td>친구 놀리지 말라는 건 유치원에서 배우는 거고</td>\n",
       "      <td>0.171718</td>\n",
       "      <td>0.828282</td>\n",
       "    </tr>\n",
       "  </tbody>\n",
       "</table>\n",
       "</div>"
      ],
      "text/plain": [
       "                       Message  Positive  Negative\n",
       "8              나도 그때로 철이 없었으니까  0.146546  0.853454\n",
       "9                    그때로 한 거잖아  0.859396  0.140604\n",
       "10             친구 때리면 안 된다는 거는  0.085334  0.914666\n",
       "11         초등학교 1학년 때부터 배우는 거야  0.958562  0.041438\n",
       "12             발음새만 어쩌고 그런 거에서  0.117815  0.882185\n",
       "13   친구 놀리지 말라는 건 유치원에서 배우는 거고  0.171718  0.828282"
      ]
     },
     "execution_count": 114,
     "metadata": {},
     "output_type": "execute_result"
    }
   ],
   "source": [
    "sentiment_df[8:14]"
   ]
  },
  {
   "cell_type": "code",
   "execution_count": 88,
   "id": "c2ab42b0",
   "metadata": {},
   "outputs": [],
   "source": [
    "negative_count = len(sentiment_df[sentiment_df['Negative'] > 0.7])\n",
    "positive_count = len(sentiment_df[sentiment_df['Positive'] > 0.5])\n",
    "positive_ratio = positive_count / len(sentiment_df)\n",
    "negative_ratio = negative_count / len(sentiment_df)"
   ]
  },
  {
   "cell_type": "code",
   "execution_count": 89,
   "id": "5de0399c",
   "metadata": {},
   "outputs": [
    {
     "name": "stdout",
     "output_type": "stream",
     "text": [
      "부정 감정 개수: 13\n",
      "긍정 감정 개수: 9\n",
      "전체 문장 개수: 22\n",
      "긍정 감정 비율: 0.41\n",
      "부정 감정 비율: 0.59\n",
      "긍정 감정 평균: 0.05\n",
      "부정 감정 평균: 0.95\n"
     ]
    }
   ],
   "source": [
    "print(f\"부정 감정 개수: {negative_count}\")\n",
    "print(f\"긍정 감정 개수: {positive_count}\")\n",
    "print(f\"전체 문장 개수: {len(sentiment_df)}\")\n",
    "print(f\"긍정 감정 비율: {positive_ratio:.2f}\")\n",
    "print(f\"부정 감정 비율: {negative_ratio:.2f}\")\n",
    "print(f\"긍정 감정 평균: {df['Positive'].mean():.2f}\")\n",
    "print(f\"부정 감정 평균: {df['Negative'].mean():.2f}\")"
   ]
  },
  {
   "cell_type": "code",
   "execution_count": null,
   "id": "a0dea577",
   "metadata": {},
   "outputs": [
    {
     "data": {
      "text/plain": [
       "Text(0.5, 1.0, 'Sentiment ratio')"
      ]
     },
     "execution_count": 92,
     "metadata": {},
     "output_type": "execute_result"
    },
    {
     "data": {
      "image/png": "[encoded data removed]",
      "text/plain": [
       "<Figure size 640x480 with 1 Axes>"
      ]
     },
     "metadata": {},
     "output_type": "display_data"
    }
   ],
   "source": [
    "plt.bar(['Positive', 'Negative'], [positive_ratio, negative_ratio], color=['blue', 'red'])\n",
    "plt.ylim([0.3, 0.6])\n",
    "#폰트 크기 설정\n",
    "plt.xticks(fontsize=15)\n",
    "plt.yticks(fontsize=15)\n",
    "plt.title('Sentiment ratio', fontsize=20)"
   ]
  },
  {
   "cell_type": "code",
   "execution_count": 26,
   "id": "b0b1d50d",
   "metadata": {},
   "outputs": [],
   "source": [
    "from datasets import load_dataset\n",
    "from transformers import AutoTokenizer, AutoModelForSequenceClassification, TextClassificationPipeline\n",
    "import numpy as np"
   ]
  },
  {
   "cell_type": "code",
   "execution_count": 93,
   "id": "f93ccb9b",
   "metadata": {},
   "outputs": [],
   "source": [
    "# 모델 경로 (trainer.save_model(\"./saved_model\")에서 저장한 경로)\n",
    "school_violence_model = \"./model_output/school_violence_kcbert_base\"\n",
    "\n",
    "# tokenizer와 model 불러오기\n",
    "school_violence_tokenizer = AutoTokenizer.from_pretrained(school_violence_model)\n",
    "school_violence_model = AutoModelForSequenceClassification.from_pretrained(school_violence_model)"
   ]
  },
  {
   "cell_type": "code",
   "execution_count": 94,
   "id": "1e81b968",
   "metadata": {},
   "outputs": [
    {
     "name": "stderr",
     "output_type": "stream",
     "text": [
      "Device set to use cuda:0\n",
      "c:\\Users\\smhrd\\AppData\\Local\\Programs\\Python\\Python39\\lib\\site-packages\\transformers\\pipelines\\text_classification.py:106: UserWarning: `return_all_scores` is now deprecated,  if want a similar functionality use `top_k=None` instead of `return_all_scores=True` or `top_k=1` instead of `return_all_scores=False`.\n",
      "  warnings.warn(\n"
     ]
    }
   ],
   "source": [
    "school_violence_pipe = TextClassificationPipeline(\n",
    "    model = school_violence_model,\n",
    "    tokenizer = school_violence_tokenizer,\n",
    "    device=0,\n",
    "    return_all_scores=True,\n",
    "    function_to_apply='sigmoid'\n",
    "    )"
   ]
  },
  {
   "cell_type": "code",
   "execution_count": 95,
   "id": "f65fa448",
   "metadata": {},
   "outputs": [
    {
     "data": {
      "text/html": [
       "<div>\n",
       "<style scoped>\n",
       "    .dataframe tbody tr th:only-of-type {\n",
       "        vertical-align: middle;\n",
       "    }\n",
       "\n",
       "    .dataframe tbody tr th {\n",
       "        vertical-align: top;\n",
       "    }\n",
       "\n",
       "    .dataframe thead th {\n",
       "        text-align: right;\n",
       "    }\n",
       "</style>\n",
       "<table border=\"1\" class=\"dataframe\">\n",
       "  <thead>\n",
       "    <tr style=\"text-align: right;\">\n",
       "      <th></th>\n",
       "      <th>Message</th>\n",
       "    </tr>\n",
       "  </thead>\n",
       "  <tbody>\n",
       "    <tr>\n",
       "      <th>0</th>\n",
       "      <td>너는 맞으면 아프고 나는 맞으면 안 아파?</td>\n",
       "    </tr>\n",
       "    <tr>\n",
       "      <th>1</th>\n",
       "      <td>아프겠지 아프니까</td>\n",
       "    </tr>\n",
       "    <tr>\n",
       "      <th>2</th>\n",
       "      <td>나는 어렸으니까 너무나</td>\n",
       "    </tr>\n",
       "    <tr>\n",
       "      <th>3</th>\n",
       "      <td>그때도 어렸으니까 내가 철 없다고 했잖아</td>\n",
       "    </tr>\n",
       "    <tr>\n",
       "      <th>4</th>\n",
       "      <td>그러니까 내가 사과를 하는 거잖아</td>\n",
       "    </tr>\n",
       "    <tr>\n",
       "      <th>5</th>\n",
       "      <td>그니까 그 사과가 왜 말로 틈 치고 마냐고</td>\n",
       "    </tr>\n",
       "    <tr>\n",
       "      <th>6</th>\n",
       "      <td>그때도 나도 어렸으니까</td>\n",
       "    </tr>\n",
       "    <tr>\n",
       "      <th>7</th>\n",
       "      <td>내가 나이 먹고 내가 그렇게 했니?</td>\n",
       "    </tr>\n",
       "    <tr>\n",
       "      <th>8</th>\n",
       "      <td>나도 그때로 철이 없었으니까</td>\n",
       "    </tr>\n",
       "    <tr>\n",
       "      <th>9</th>\n",
       "      <td>그때로 한 거잖아</td>\n",
       "    </tr>\n",
       "    <tr>\n",
       "      <th>10</th>\n",
       "      <td>친구 때리면 안 된다는 거는</td>\n",
       "    </tr>\n",
       "    <tr>\n",
       "      <th>11</th>\n",
       "      <td>초등학교 1학년 때부터 배우는 거야</td>\n",
       "    </tr>\n",
       "    <tr>\n",
       "      <th>12</th>\n",
       "      <td>발음새만 어쩌고 그런 거에서</td>\n",
       "    </tr>\n",
       "    <tr>\n",
       "      <th>13</th>\n",
       "      <td>친구 놀리지 말라는 건 유치원에서 배우는 거고</td>\n",
       "    </tr>\n",
       "    <tr>\n",
       "      <th>14</th>\n",
       "      <td>나도 한번 물어보자</td>\n",
       "    </tr>\n",
       "    <tr>\n",
       "      <th>15</th>\n",
       "      <td>너는 나를 그렇게 왜 때렸냐?</td>\n",
       "    </tr>\n",
       "    <tr>\n",
       "      <th>16</th>\n",
       "      <td>나도 그때 철이 없었으니까</td>\n",
       "    </tr>\n",
       "    <tr>\n",
       "      <th>17</th>\n",
       "      <td>나도 모르겠다</td>\n",
       "    </tr>\n",
       "    <tr>\n",
       "      <th>18</th>\n",
       "      <td>철이 없었다 이런 얘기 말고</td>\n",
       "    </tr>\n",
       "    <tr>\n",
       "      <th>19</th>\n",
       "      <td>나도 모르지</td>\n",
       "    </tr>\n",
       "    <tr>\n",
       "      <th>20</th>\n",
       "      <td>내가 왜 그때 내가 왜 그렇게 때렸는지</td>\n",
       "    </tr>\n",
       "    <tr>\n",
       "      <th>21</th>\n",
       "      <td>나도 몰라</td>\n",
       "    </tr>\n",
       "  </tbody>\n",
       "</table>\n",
       "</div>"
      ],
      "text/plain": [
       "                       Message\n",
       "0      너는 맞으면 아프고 나는 맞으면 안 아파?\n",
       "1                    아프겠지 아프니까\n",
       "2                 나는 어렸으니까 너무나\n",
       "3       그때도 어렸으니까 내가 철 없다고 했잖아\n",
       "4           그러니까 내가 사과를 하는 거잖아\n",
       "5      그니까 그 사과가 왜 말로 틈 치고 마냐고\n",
       "6                 그때도 나도 어렸으니까\n",
       "7          내가 나이 먹고 내가 그렇게 했니?\n",
       "8              나도 그때로 철이 없었으니까\n",
       "9                    그때로 한 거잖아\n",
       "10             친구 때리면 안 된다는 거는\n",
       "11         초등학교 1학년 때부터 배우는 거야\n",
       "12             발음새만 어쩌고 그런 거에서\n",
       "13   친구 놀리지 말라는 건 유치원에서 배우는 거고\n",
       "14                  나도 한번 물어보자\n",
       "15            너는 나를 그렇게 왜 때렸냐?\n",
       "16              나도 그때 철이 없었으니까\n",
       "17                     나도 모르겠다\n",
       "18             철이 없었다 이런 얘기 말고\n",
       "19                      나도 모르지\n",
       "20       내가 왜 그때 내가 왜 그렇게 때렸는지\n",
       "21                       나도 몰라"
      ]
     },
     "execution_count": 95,
     "metadata": {},
     "output_type": "execute_result"
    }
   ],
   "source": [
    "school_df = pd.DataFrame(textlist, columns = ['Message'])\n",
    "school_df"
   ]
  },
  {
   "cell_type": "code",
   "execution_count": 112,
   "id": "7a4f9700",
   "metadata": {},
   "outputs": [
    {
     "data": {
      "text/html": [
       "<div>\n",
       "<style scoped>\n",
       "    .dataframe tbody tr th:only-of-type {\n",
       "        vertical-align: middle;\n",
       "    }\n",
       "\n",
       "    .dataframe tbody tr th {\n",
       "        vertical-align: top;\n",
       "    }\n",
       "\n",
       "    .dataframe thead th {\n",
       "        text-align: right;\n",
       "    }\n",
       "</style>\n",
       "<table border=\"1\" class=\"dataframe\">\n",
       "  <thead>\n",
       "    <tr style=\"text-align: right;\">\n",
       "      <th></th>\n",
       "      <th>Message</th>\n",
       "      <th>혐오</th>\n",
       "      <th>악플/욕설</th>\n",
       "      <th>clean</th>\n",
       "      <th>학교폭력</th>\n",
       "    </tr>\n",
       "  </thead>\n",
       "  <tbody>\n",
       "    <tr>\n",
       "      <th>14</th>\n",
       "      <td>나도 한번 물어보자</td>\n",
       "      <td>0.007153</td>\n",
       "      <td>0.014833</td>\n",
       "      <td>0.968023</td>\n",
       "      <td>0.025388</td>\n",
       "    </tr>\n",
       "    <tr>\n",
       "      <th>15</th>\n",
       "      <td>너는 나를 그렇게 왜 때렸냐?</td>\n",
       "      <td>0.032694</td>\n",
       "      <td>0.026931</td>\n",
       "      <td>0.016028</td>\n",
       "      <td>0.984488</td>\n",
       "    </tr>\n",
       "    <tr>\n",
       "      <th>16</th>\n",
       "      <td>나도 그때 철이 없었으니까</td>\n",
       "      <td>0.029854</td>\n",
       "      <td>0.016511</td>\n",
       "      <td>0.027801</td>\n",
       "      <td>0.982366</td>\n",
       "    </tr>\n",
       "    <tr>\n",
       "      <th>17</th>\n",
       "      <td>나도 모르겠다</td>\n",
       "      <td>0.005695</td>\n",
       "      <td>0.009177</td>\n",
       "      <td>0.526853</td>\n",
       "      <td>0.494484</td>\n",
       "    </tr>\n",
       "    <tr>\n",
       "      <th>18</th>\n",
       "      <td>철이 없었다 이런 얘기 말고</td>\n",
       "      <td>0.026139</td>\n",
       "      <td>0.020139</td>\n",
       "      <td>0.022602</td>\n",
       "      <td>0.981730</td>\n",
       "    </tr>\n",
       "    <tr>\n",
       "      <th>19</th>\n",
       "      <td>나도 모르지</td>\n",
       "      <td>0.004744</td>\n",
       "      <td>0.010687</td>\n",
       "      <td>0.674207</td>\n",
       "      <td>0.365428</td>\n",
       "    </tr>\n",
       "    <tr>\n",
       "      <th>20</th>\n",
       "      <td>내가 왜 그때 내가 왜 그렇게 때렸는지</td>\n",
       "      <td>0.048100</td>\n",
       "      <td>0.030670</td>\n",
       "      <td>0.013580</td>\n",
       "      <td>0.988992</td>\n",
       "    </tr>\n",
       "    <tr>\n",
       "      <th>21</th>\n",
       "      <td>나도 몰라</td>\n",
       "      <td>0.004632</td>\n",
       "      <td>0.013201</td>\n",
       "      <td>0.908702</td>\n",
       "      <td>0.070898</td>\n",
       "    </tr>\n",
       "  </tbody>\n",
       "</table>\n",
       "</div>"
      ],
      "text/plain": [
       "                   Message        혐오     악플/욕설     clean      학교폭력\n",
       "14              나도 한번 물어보자  0.007153  0.014833  0.968023  0.025388\n",
       "15        너는 나를 그렇게 왜 때렸냐?  0.032694  0.026931  0.016028  0.984488\n",
       "16          나도 그때 철이 없었으니까  0.029854  0.016511  0.027801  0.982366\n",
       "17                 나도 모르겠다  0.005695  0.009177  0.526853  0.494484\n",
       "18         철이 없었다 이런 얘기 말고  0.026139  0.020139  0.022602  0.981730\n",
       "19                  나도 모르지  0.004744  0.010687  0.674207  0.365428\n",
       "20   내가 왜 그때 내가 왜 그렇게 때렸는지  0.048100  0.030670  0.013580  0.988992\n",
       "21                   나도 몰라  0.004632  0.013201  0.908702  0.070898"
      ]
     },
     "execution_count": 112,
     "metadata": {},
     "output_type": "execute_result"
    }
   ],
   "source": [
    "for text in textlist:\n",
    "    result = school_violence_pipe(text)  # 결과 예시: [[{label: '혐오', score: 0.01}, ...]]\n",
    "    \n",
    "    # 1. 2차원 리스트 구조 해제 (첫 번째 요소 추출)\n",
    "    labels_scores = result[0]  # [{label: '혐오', score: ...}, ...]\n",
    "    \n",
    "    # 2. 라벨을 키로 하는 딕셔너리 생성\n",
    "    score_dict = {item['label']: item['score'] for item in labels_scores}\n",
    "    \n",
    "    # 3. DataFrame 업데이트\n",
    "    school_df.loc[school_df['Message'] == text, '혐오'] = score_dict.get('혐오', 0)\n",
    "    school_df.loc[school_df['Message'] == text, '악플/욕설'] = score_dict.get('악플/욕설', 0)\n",
    "    school_df.loc[school_df['Message'] == text, 'clean'] = score_dict.get('clean', 0)\n",
    "    school_df.loc[school_df['Message'] == text, '학교폭력'] = score_dict.get('학교폭력', 0)\n",
    "\n",
    "school_df[14:]\n"
   ]
  },
  {
   "cell_type": "code",
   "execution_count": 108,
   "id": "356afca0",
   "metadata": {},
   "outputs": [
    {
     "name": "stdout",
     "output_type": "stream",
     "text": [
      "혐오 감정 개수: 0\n",
      "악플/욕설 감정 개수: 0\n",
      "clean 감정 개수: 5\n",
      "학교폭력 감정 개수: 17\n",
      "전체 문장 개수: 22\n",
      "\n",
      "혐오 감정 비율: 0.00\n",
      "악플/욕설 감정 비율: 0.00\n",
      "clean 감정 비율: 0.23\n",
      "학교폭력 감정 비율: 0.77\n",
      "\n",
      "혐오 감정 평균: 0.02\n",
      "악플/욕설 감정 평균: 0.02\n",
      "clean 감정 평균: 0.24\n",
      "학교폭력 감정 평균: 0.77\n"
     ]
    }
   ],
   "source": [
    "disgust_count = len(school_df[school_df['혐오'] > 0.5])\n",
    "hate_count = len(school_df[school_df['악플/욕설'] > 0.5])\n",
    "clean_count = len(school_df[school_df['clean'] > 0.5])\n",
    "school_violence_count = len(school_df[school_df['학교폭력'] > 0.5])\n",
    "disgust_ratio = disgust_count / len(school_df)\n",
    "hate_ratio = hate_count / len(school_df)\n",
    "clean_ratio = clean_count / len(school_df)\n",
    "school_violence_ratio = school_violence_count / len(school_df)\n",
    "\n",
    "disgust_mean = school_df['혐오'].mean()\n",
    "hate_mean = school_df['악플/욕설'].mean()\n",
    "clean_mean = school_df['clean'].mean()\n",
    "school_violence_mean = school_df['학교폭력'].mean()\n",
    "\n",
    "print(f\"혐오 감정 개수: {disgust_count}\")\n",
    "print(f\"악플/욕설 감정 개수: {hate_count}\")\n",
    "print(f\"clean 감정 개수: {clean_count}\")\n",
    "print(f\"학교폭력 감정 개수: {school_violence_count}\")\n",
    "print(f\"전체 문장 개수: {len(school_df)}\")\n",
    "print()\n",
    "print(f\"혐오 감정 비율: {disgust_ratio:.2f}\")\n",
    "print(f\"악플/욕설 감정 비율: {hate_ratio:.2f}\")\n",
    "print(f\"clean 감정 비율: {clean_ratio:.2f}\")\n",
    "print(f\"학교폭력 감정 비율: {school_violence_ratio:.2f}\")\n",
    "print()\n",
    "print(f\"혐오 감정 평균: {disgust_mean:.2f}\")\n",
    "print(f\"악플/욕설 감정 평균: {hate_mean:.2f}\")\n",
    "print(f\"clean 감정 평균: {clean_mean:.2f}\")\n",
    "print(f\"학교폭력 감정 평균: {school_violence_mean:.2f}\")"
   ]
  },
  {
   "cell_type": "code",
   "execution_count": 109,
   "id": "dffdfea6",
   "metadata": {},
   "outputs": [
    {
     "data": {
      "text/plain": [
       "Text(0.5, 1.0, 'School Violence ratio')"
      ]
     },
     "execution_count": 109,
     "metadata": {},
     "output_type": "execute_result"
    },
    {
     "data": {
      "image/png": "[encoded data removed]",
      "text/plain": [
       "<Figure size 640x480 with 1 Axes>"
      ]
     },
     "metadata": {},
     "output_type": "display_data"
    }
   ],
   "source": [
    "plt.bar(['disgust', 'hate', 'clean', 'school'], [disgust_mean, hate_mean, clean_mean, school_violence_mean], color=['blue', 'yellow', 'green', 'red'])\n",
    "#plt.ylim([0.3, 0.6])\n",
    "#폰트 크기 설정\n",
    "plt.xticks(fontsize=15)\n",
    "plt.yticks(fontsize=15)\n",
    "plt.title('School Violence ratio', fontsize=20)"
   ]
  },
  {
   "cell_type": "code",
   "execution_count": 105,
   "id": "207b1765",
   "metadata": {},
   "outputs": [
    {
     "data": {
      "text/plain": [
       "Text(0.5, 1.0, 'School Violence ratio')"
      ]
     },
     "execution_count": 105,
     "metadata": {},
     "output_type": "execute_result"
    },
    {
     "data": {
      "image/png": "[encoded data removed]",
      "text/plain": [
       "<Figure size 640x480 with 1 Axes>"
      ]
     },
     "metadata": {},
     "output_type": "display_data"
    }
   ],
   "source": [
    "plt.bar(['disgust', 'hate', 'clean', 'school'], [disgust_ratio, hate_ratio, clean_ratio, school_violence_ratio], color=['blue', 'yellow', 'green', 'red'])\n",
    "#plt.ylim([0.3, 0.6])\n",
    "#폰트 크기 설정\n",
    "plt.xticks(fontsize=15)\n",
    "plt.yticks(fontsize=15)\n",
    "plt.title('School Violence ratio', fontsize=20)"
   ]
  }
 ],
 "metadata": {
  "kernelspec": {
   "display_name": "Python 3",
   "language": "python",
   "name": "python3"
  },
  "language_info": {
   "codemirror_mode": {
    "name": "ipython",
    "version": 3
   },
   "file_extension": ".py",
   "mimetype": "text/x-python",
   "name": "python",
   "nbconvert_exporter": "python",
   "pygments_lexer": "ipython3",
   "version": "3.9.9"
  }
 },
 "nbformat": 4,
 "nbformat_minor": 5
}
