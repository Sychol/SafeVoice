{
 "cells": [
  {
   "cell_type": "markdown",
   "id": "0e5ec749",
   "metadata": {},
   "source": [
    "## 필요 라이브러리 import"
   ]
  },
  {
   "cell_type": "code",
   "execution_count": null,
   "id": "020e7d24",
   "metadata": {},
   "outputs": [],
   "source": [
    "import requests\n",
    "from bs4 import BeautifulSoup\n",
    "import pandas as pd"
   ]
  },
  {
   "cell_type": "markdown",
   "id": "31bad4c0",
   "metadata": {},
   "source": [
    "## 글번호 가져오기"
   ]
  },
  {
   "cell_type": "code",
   "execution_count": 4,
   "id": "79f317be",
   "metadata": {},
   "outputs": [],
   "source": [
    "headers = {\n",
    "    \"User-Agent\": \"Mozilla/5.0 (Windows NT 10.0; Win64; x64) AppleWebKit/537.36 (KHTML, like Gecko) Chrome/127.0.0.0 Whale/3.25.232.19 Safari/537.36\"\n",
    "}\n",
    "gall_nums = []\n",
    "for i in range(1, 12):\n",
    "    response = requests.get(\n",
    "        f\"https://gall.dcinside.com/mgallery/board/lists/?id=school_police&page={i}\",\n",
    "        headers=headers\n",
    "    )\n",
    "    html = response.text\n",
    "    soup = BeautifulSoup(html, \"html.parser\")\n",
    "    items = soup.select(\".gall_num\")\n",
    "    for item in items:\n",
    "        number = item.text.strip()\n",
    "        if number.isdigit():\n",
    "            gall_nums.append(number)"
   ]
  },
  {
   "cell_type": "code",
   "execution_count": 6,
   "id": "6c6686ef",
   "metadata": {},
   "outputs": [
    {
     "name": "stdout",
     "output_type": "stream",
     "text": [
      "['862', '861', '860', '859', '858', '855', '854', '852', '849', '847', '837', '831', '829', '828', '826', '825', '824', '814', '811', '808', '805', '804', '802', '801', '800', '799', '798', '797', '796', '795', '793', '790', '789', '788', '787', '786', '784', '783', '782', '781', '780', '776', '773', '772', '771', '770', '769', '765', '763', '761', '760', '759', '758', '756', '754', '753', '752', '750', '749', '748', '747', '744', '743', '742', '741', '740', '739', '738', '729', '728', '725', '723', '721', '719', '718', '717', '716', '715', '714', '713', '712', '710', '708', '707', '705', '704', '703', '698', '697', '696', '692', '691', '688', '682', '681', '679', '678', '677', '676', '675', '674', '673', '672', '671', '669', '668', '666', '665', '664', '663', '661', '660', '658', '657', '656', '651', '650', '645', '644', '643', '641', '638', '637', '635', '634', '633', '631', '628', '627', '625', '624', '623', '621', '620', '618', '613', '610', '607', '603', '602', '601', '600', '598', '597', '594', '593', '589', '588', '586', '582', '581', '579', '578', '576', '575', '574', '573', '572', '571', '570', '567', '565', '562', '561', '560', '558', '557', '555', '554', '553', '552', '549', '548', '547', '545', '544', '543', '541', '540', '537', '536', '535', '534', '532', '527', '526', '524', '523', '522', '521', '519', '518', '517', '516', '515', '514', '510', '509', '505', '504', '503', '502', '501', '500', '498', '494', '493', '488', '486', '485', '484', '483', '482', '481', '476', '475', '474', '473', '471', '470', '469', '468', '467', '466', '461', '460', '459', '456', '454', '453', '452', '451', '450', '434', '429', '428', '421', '414', '413', '411', '410', '409', '408', '407', '406', '405', '403', '402', '401', '399', '398', '397', '393', '392', '391', '390', '387', '386', '384', '383', '381', '379', '378', '377', '376', '375', '374', '373', '372', '367', '366', '365', '362', '361', '353', '352', '348', '343', '339', '338', '337', '325', '322', '319', '316', '312', '310', '308', '307', '304', '300', '299', '295', '294', '293', '292', '291', '290', '289', '287', '286', '284', '283', '282', '279', '278', '277', '276', '275', '274', '273', '272', '270', '269', '268', '267', '266', '264', '262', '260', '257', '255', '253', '251', '249', '246', '245', '244', '243', '242', '241', '239', '238', '236', '235', '234', '233', '232', '230', '228', '227', '226', '225', '223', '221', '220', '219', '218', '217', '216', '215', '214', '213', '212', '211', '210', '209', '208', '207', '206', '205', '202', '200', '199', '198', '194', '192', '191', '190', '189', '188', '186', '185', '182', '181', '180', '179', '178', '176', '175', '173', '172', '171', '169', '168', '167', '166', '165', '161', '158', '157', '156', '155', '154', '153', '151', '150', '149', '148', '146', '145', '144', '143', '142', '141', '139', '137', '136', '135', '132', '130', '128', '127', '126', '121', '120', '117', '116', '114', '113', '112', '111', '107', '106', '105', '101', '99', '95', '90', '89', '88', '86', '84', '83', '82', '81', '78', '77', '74', '72', '68', '66', '61', '60', '59', '55', '53', '52', '50', '49', '48', '47', '45', '44', '42', '40', '39', '38', '37', '36', '34', '30', '29', '27', '24', '21', '19', '17', '16', '15', '14', '13', '12', '10', '7', '6', '5', '55', '53', '52', '50', '49', '48', '47', '45', '44', '42', '40', '39', '38', '37', '36', '34', '30', '29', '27', '24', '21', '19', '17', '16', '15', '14', '13', '12', '10', '7', '6', '5']\n"
     ]
    }
   ],
   "source": [
    "print(gall_nums)"
   ]
  },
  {
   "cell_type": "markdown",
   "id": "2ef429e8",
   "metadata": {},
   "source": [
    "## 내용 크롤링"
   ]
  },
  {
   "cell_type": "code",
   "execution_count": 7,
   "id": "bc6b146e",
   "metadata": {},
   "outputs": [],
   "source": [
    "data = []\n",
    "for i in gall_nums:\n",
    "    response = requests.get(\n",
    "        f\"https://gall.dcinside.com/mgallery/board/view/?id=school_police&no={i}\",\n",
    "        headers=headers)\n",
    "    html = response.text\n",
    "    soup = BeautifulSoup(html, \"html.parser\")\n",
    "    subject = soup.select_one(\".title_subject\").text.strip()\n",
    "    contents = soup.select(\".write_div>div>div\")\n",
    "    for content in contents:\n",
    "        for sentence in content.text.splitlines():\n",
    "            sentence = sentence.strip()\n",
    "            if len(sentence) < 4:\n",
    "                continue\n",
    "            data.append([i, subject, sentence])\n",
    "\n",
    "df = pd.DataFrame(data, columns=[\"글번호\", \"제목\", \"내용\"])\n",
    "df[\"글번호\"] = df[\"글번호\"].astype(int)\n",
    "\n",
    "df.to_excel(\"dcinside_응답하라학교폭력갤러리_줄바꿈단위.xlsx\", index=False)"
   ]
  },
  {
   "cell_type": "markdown",
   "id": "99f431f6",
   "metadata": {},
   "source": [
    "## DCinside Crawler"
   ]
  },
  {
   "cell_type": "code",
   "execution_count": 18,
   "id": "7778656f",
   "metadata": {},
   "outputs": [],
   "source": [
    "import requests\n",
    "from bs4 import BeautifulSoup\n",
    "import pandas as pd\n",
    "\n",
    "last_page = 27  # 마지막 페이지 번호\n",
    "base_url = \"https://gall.dcinside.com\"\n",
    "list_url = \"/mini/board/lists/\"\n",
    "view_url = \"/mini/board/view/\"\n",
    "gallery_id = \"oursorrowfuleyes\"\n",
    "final_url = f\"{base_url}{list_url}?id={gallery_id}\"\n",
    "filename = \"dcinside_우울증대피소미니갤러리\"\n",
    "\n",
    "headers = {\n",
    "    \"User-Agent\": \"Mozilla/5.0 (Windows NT 10.0; Win64; x64) AppleWebKit/537.36 (KHTML, like Gecko) Chrome/127.0.0.0 Whale/3.25.232.19 Safari/537.36\"\n",
    "}\n",
    "\n",
    "# 글번호 수집\n",
    "gall_nums = []\n",
    "for i in range(1, last_page + 1):\n",
    "    response = requests.get(\n",
    "        f\"{base_url}{list_url}?id={gallery_id}&page={i}\",\n",
    "        headers=headers, timeout=10\n",
    "    )\n",
    "    soup = BeautifulSoup(response.text, \"html.parser\")\n",
    "    items = soup.select(\".gall_num\")\n",
    "    for item in items:\n",
    "        number = item.text.strip()\n",
    "        if number.isdigit():\n",
    "            gall_nums.append(number)\n",
    "\n",
    "gall_nums = list(set(gall_nums))  # 중복 제거\n",
    "\n",
    "# 글 내용 수집\n",
    "data = []\n",
    "for i in gall_nums:\n",
    "    try:\n",
    "        response = requests.get(\n",
    "            f\"{base_url}{view_url}?id={gallery_id}&no={i}\",\n",
    "            headers=headers, timeout=10\n",
    "        )\n",
    "        soup = BeautifulSoup(response.text, \"html.parser\")\n",
    "        subject_tag = soup.select_one(\".title_subject\")\n",
    "        subject = subject_tag.text.strip() if subject_tag else \"\"\n",
    "        contents = soup.select(\".write_div>div>div\")\n",
    "        for content in contents:\n",
    "            for sentence in content.text.splitlines():\n",
    "                sentence = sentence.strip()\n",
    "                if len(sentence) < 4 or sentence.startswith(('http', 'www')):\n",
    "                    continue\n",
    "                data.append([i, subject, sentence])\n",
    "    except Exception as e:\n",
    "        print(f\"Error processing post {i}: {e}\")\n",
    "\n",
    "df = pd.DataFrame(data, columns=[\"글번호\", \"제목\", \"내용\"])\n",
    "df[\"글번호\"] = df[\"글번호\"].astype(int)\n",
    "df.to_excel(filename+\"_crawlingData.xlsx\", index=False)\n"
   ]
  },
  {
   "cell_type": "code",
   "execution_count": 12,
   "id": "8978a4db",
   "metadata": {},
   "outputs": [
    {
     "name": "stdout",
     "output_type": "stream",
     "text": [
      "https://gall.dcinside.com/mgallery/board/lists/?id=fucking&page=1\n"
     ]
    }
   ],
   "source": [
    "print(f\"{base_url}&page=1\")"
   ]
  }
 ],
 "metadata": {
  "kernelspec": {
   "display_name": "Python 3",
   "language": "python",
   "name": "python3"
  },
  "language_info": {
   "codemirror_mode": {
    "name": "ipython",
    "version": 3
   },
   "file_extension": ".py",
   "mimetype": "text/x-python",
   "name": "python",
   "nbconvert_exporter": "python",
   "pygments_lexer": "ipython3",
   "version": "3.9.9"
  }
 },
 "nbformat": 4,
 "nbformat_minor": 5
}
